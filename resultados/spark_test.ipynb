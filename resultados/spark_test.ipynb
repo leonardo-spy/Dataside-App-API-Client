{
 "cells": [
  {
   "cell_type": "markdown",
   "id": "580dd39c-f066-4c32-af47-648eb71f5918",
   "metadata": {
    "tags": []
   },
   "source": [
    "# Desafio: Consumo de Dados para Previsão do Tempo das Cidades do Vale do Paraíba.\n",
    "\n",
    "## Objetivo\n",
    "\n",
    "Avaliar conhecimentos nas linguagens Python e SQL e na engine de processamento Apache Spark.\n",
    "\n",
    "## Descrição\n",
    "\n",
    "Neste desafio, você desenvolverá um notebook que será responsável por extrair dados de previsão do tempo das cidades do Vale do Paraíba, região onde se localiza a Dataside. Para consultar todas as cidades dessa região, utilizaremos a API do IBGE. No caso, basta realizar uma requisição HTTP com o método GET, utilizando a URL abaixo:\n",
    "\n",
    "```\n",
    "https://servicodados.ibge.gov.br/api/v1/localidades/mesorregioes/3513/municipios\n",
    "```\n",
    "\n",
    "Com esses dados, gerar um data frame e a partir dele uma temp view. Ex: \"cities\"\n",
    "\n",
    "Utilizando os nomes das cidades, deverão ser consultados os dados de previsão de tempo para cada cidade. Para realizar essa consulta, poderá ser utilizada qualquer uma das APIs informadas no link abaixo.\n",
    "\n",
    "[Public APIs - Wather](https://github.com/public-apis/public-apis#weather)\n",
    "\n",
    "Obs.: Para algumas, pode ser necessário cadastrar-se para acessar sua API Key. Mas nenhuma delas deve precisar cadastrar cartão de crédito ou adicionar qualquer valor monetário para utilizar. Caso alguma solicite, basta optar por outra.\n",
    "\n",
    "Com os dados consultados, gerar um data frame e partir dele outra temp view. Ex: \"forecasts\"\n",
    "\n",
    "Com as temp views geradas, utilizar Spark SQL para criar queries e gerar data frames das seguintes tabelas:\n",
    "\n",
    "- Tabela 1: dados de previsão do tempo para os próximos cinco dias, para cada data e cidade consultadas. As colunas dessa tabela serão:\n",
    "    - Cidade\n",
    "    - CodigoDaCidade\n",
    "    - Data\n",
    "    - Regiao\n",
    "    - Pais\n",
    "    - Latitude\n",
    "    - Longigute\n",
    "    - TemperaturaMaxima\n",
    "    - TemperaturaMinima\n",
    "    - TemperaturaMedia\n",
    "    - VaiChover\n",
    "    - ChanceDeChuva\n",
    "    - CondicaoDoTempo\n",
    "    - NascerDoSol\n",
    "    - PorDoSol\n",
    "    - VelocidadeMaximaDoVento\n",
    "    \n",
    "    Obs.: Os valores da coluna \"VaiChover\" deverá ser \"Sim\" ou \"Não\". E a coluna \"CodigoDaCidade\" é o ID retornado junto com os nomes da cidades na API do IBGE.\n",
    "    Obs.: Dependendo da API utilizada, algumas colunas podem não existir e ficarão em branco. Você deve optar por uma API que traga o maior número de informações possível.\n",
    "\n",
    "- Tabela 2: quantidade de dias com chuva e sem chuva para os dias consultados, para cada data consultada. Colunas:\n",
    "    - Cidade\n",
    "    - QtdDiasVaiChover\n",
    "    - QtdDiasNaoVaiChover\n",
    "    - TotalDiasMapeados\n",
    "\n",
    "Essas tabelas deverão ser exportadas em formado CSV e entregue no final do desafio.\n",
    "\n",
    "## To Do\n",
    "\n",
    "[ ] - Consultar municípios do Vale do Paraíba, gerar um data frame e criar uma temp view com esses dados.\n",
    "[ ] - Consultar dados do tempo para cada município, gerar um data frame e criar uma outra temp view.\n",
    "[ ] - Utilizar Spark SQL para gerar os data frames das Tabelas 1 e 2.\n",
    "[ ] - Exportar os data frames para CSV.\n",
    "\n",
    "## Atenção\n",
    "\n",
    "- Existe um limite de requisições de 10000 requests por conta cadastrada na m3o.\n",
    "- Essa API pode retornar cidades de outras regiões que possuem nome semelhante a alguma cidade do Vale do Paraiba. Pode mantê-las ou filtrar para gerar as tabelas apenas com dados de Regiao = Sao Paulo. Fica a seu critério.\n",
    "\n",
    "## Entregando o desafio\n",
    "\n",
    "Concluindo todos os passos informados em To Do, basta salvar o arquivo .ipynb do notebook e enviar para a Dataside juntamente com os CSVs das duas tabelas.\n"
   ]
  },
  {
   "cell_type": "code",
   "execution_count": null,
   "id": "a1cb6c40-3073-43b0-b7f4-95e7c9dd8245",
   "metadata": {
    "tags": []
   },
   "outputs": [],
   "source": [
    "import findspark\n",
    "findspark.init()\n",
    "\n",
    "import requests\n",
    "import json\n",
    "import unidecode\n",
    "from pyspark.sql import SparkSession\n",
    "\n",
    "spark = SparkSession.builder \\\n",
    "      .master(\"local[1]\") \\\n",
    "      .appName(\"SparkByExamples.com\") \\\n",
    "      .getOrCreate()"
   ]
  },
  {
   "cell_type": "code",
   "execution_count": null,
   "id": "2b37cc9f-3d6c-4128-82f4-353a38f31272",
   "metadata": {
    "tags": []
   },
   "outputs": [],
   "source": [
    "# Buscar cidades do Vale do Paraíba\n",
    "cities = {}\n",
    "IBGE_URL = \"https://servicodados.ibge.gov.br/api/v1/localidades/mesorregioes/3513/municipios\"\n",
    "\n",
    "response = requests.get(\"{}\".format(IBGE_URL))\n",
    "json_response = response.json()\n",
    "for city in json_response:\n",
    "      city['nome'] = unidecode.unidecode(city['nome'])\n",
    "\n",
    "# Criar data frame com as cidades\n",
    "cities_raw = spark.sparkContext.parallelize([json_response])\n",
    "cities = spark.read.json(cities_raw)\n",
    "\n",
    "# Criar view com as cidades\n",
    "cities.createOrReplaceTempView(\"cities\")"
   ]
  },
  {
   "cell_type": "code",
   "execution_count": null,
   "id": "c4a40a6f-d5f1-4524-9d0b-d1e6e24dfbfa",
   "metadata": {
    "tags": []
   },
   "outputs": [],
   "source": [
    "# Buscar previsão do tempo para as cidades\n",
    "M3O_API_TOKEN=\"ZTY4NmQ0MjctNTViOC00MjhjLTk5ZjMtYWQwZjE1Y2IwOGY3\"\n",
    "SEARCH_CITY = \"https://api.m3o.com/v1/weather/Forecast\"\n",
    "\n",
    "session = requests.Session()\n",
    "session.headers = {\"Content-Type\":\"application/json\",\"Authorization\": f\"Bearer {M3O_API_TOKEN}\"}\n",
    "cidades =  []\n",
    "for cidade in cities.collect():\n",
    "      while True:            \n",
    "            response = session.post(SEARCH_CITY,json={\"days\": 5, \"location\" : cidade[2]})\n",
    "            if response.status_code == 200:\n",
    "                  probabily_cities = response.json() \n",
    "                  for x in probabily_cities['forecast']:\n",
    "                        if x['will_it_rain'] == True:\n",
    "                              x['will_it_rain'] = 'Sim'\n",
    "                        else:\n",
    "                              x['will_it_rain'] = 'Não'\n",
    "                  cidades.append(probabily_cities)\n",
    "                  break\n",
    "            elif (response.status_code == 500):\n",
    "                  break # cidade não existe no M3o\n",
    "            else:\n",
    "                  continue\n",
    "\n",
    "# Criar data frame com as previsões\n",
    "forecast_raw = spark.sparkContext.parallelize(cidades)\n",
    "forecast = spark.read.json(forecast_raw)\n",
    "forecast = forecast.filter(forecast['region'] == \"Sao Paulo\")\n",
    "\n",
    "# Criar view com as previsões\n",
    "forecast.createOrReplaceTempView(\"forecast\")"
   ]
  },
  {
   "cell_type": "code",
   "execution_count": null,
   "id": "bbc2a925-c707-46f0-a2e2-e0e0164a7312",
   "metadata": {},
   "outputs": [],
   "source": [
    "# Criar DF da Tabela 1\n",
    "SQL_TABLE_1 = \"SELECT f.location AS Cidade,cities.id AS CodigoDaCidade,f.date AS Data,f.region AS Regiao,'Brasil' AS Pais,f.latitude AS Latitude,f.longitude AS Longigute,f.max_temp_c AS TemperaturaMaxima,f.min_temp_c AS TemperaturaMinima,f.avg_temp_c AS TemperaturaMedia,f.will_it_rain AS VaiChover,CONCAT(f.chance_of_rain,'%') AS ChanceDeChuva,f.condition AS CondicaoDoTempo,f.sunrise AS NascerDoSol,f.sunset AS PorDoSol,f.max_wind_kph AS VelocidadeMaximaDoVento FROM (SELECT f.location,f.local_time,f.region,f.latitude,f.longitude,inline(f.forecast) FROM forecast AS f) AS f INNER JOIN cities on cities.nome = f.location\"\n",
    "tabela_1 = spark.sql(SQL_TABLE_1)# Longigute é o solicitado no notebook"
   ]
  },
  {
   "cell_type": "code",
   "execution_count": null,
   "id": "3bab3315-f50b-4269-8823-ccfda0fefbfe",
   "metadata": {},
   "outputs": [],
   "source": [
    "# Criar DF da Tabela 2\n",
    "SQL_TABLE_2 = \"SELECT f.location AS Cidade, SUM(if(f.will_it_rain = 'Sim', 1, 0)) AS QtdDiasVaiChover, SUM(if(f.will_it_rain = 'Não', 1, 0)) AS QtdDiasNaoVaiChover, COUNT(f.location) AS TotalDiasMapeados FROM (SELECT f.location,inline(f.forecast) FROM forecast AS f) AS f GROUP BY f.location\"\n",
    "tabela_2 = spark.sql(SQL_TABLE_2)"
   ]
  },
  {
   "cell_type": "code",
   "execution_count": null,
   "id": "c1ff378b-4c24-47dc-aba1-742211cd385d",
   "metadata": {},
   "outputs": [],
   "source": [
    "# Exportar CSVs\n",
    "tabela_1.coalesce(1).write.csv(\"/tmp/spark_output/tabela1\", mode=\"append\", header=\"true\",sep=';',encoding='ISO-8859-1')#coalesce(1) para deixar em um unico csv final\n",
    "tabela_2.coalesce(1).write.csv(\"/tmp/spark_output/tabela2\", mode=\"append\", header=\"true\",sep=';',encoding='ISO-8859-1')"
   ]
  }
 ],
 "metadata": {
  "kernelspec": {
   "display_name": "Python 3 (ipykernel)",
   "language": "python",
   "name": "python3"
  },
  "language_info": {
   "codemirror_mode": {
    "name": "ipython",
    "version": 3
   },
   "file_extension": ".py",
   "mimetype": "text/x-python",
   "name": "python",
   "nbconvert_exporter": "python",
   "pygments_lexer": "ipython3",
   "version": "3.8.10"
  }
 },
 "nbformat": 4,
 "nbformat_minor": 5
}
